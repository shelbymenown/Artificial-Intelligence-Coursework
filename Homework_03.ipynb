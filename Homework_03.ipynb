{
  "nbformat": 4,
  "nbformat_minor": 0,
  "metadata": {
    "coursera": {
      "course_slug": "neural-networks-deep-learning",
      "graded_item_id": "XaIWT",
      "launcher_item_id": "zAgPl"
    },
    "kernelspec": {
      "display_name": "Python 3",
      "language": "python",
      "name": "python3"
    },
    "language_info": {
      "codemirror_mode": {
        "name": "ipython",
        "version": 3
      },
      "file_extension": ".py",
      "mimetype": "text/x-python",
      "name": "python",
      "nbconvert_exporter": "python",
      "pygments_lexer": "ipython3",
      "version": "3.8.3"
    },
    "colab": {
      "name": "Homework_03.ipynb",
      "provenance": [],
      "collapsed_sections": [],
      "include_colab_link": true
    }
  },
  "cells": [
    {
      "cell_type": "markdown",
      "metadata": {
        "id": "view-in-github",
        "colab_type": "text"
      },
      "source": [
        "<a href=\"https://colab.research.google.com/github/shelbymenown/Artificial-Intelligence-Coursework/blob/main/Homework_03.ipynb\" target=\"_parent\"><img src=\"https://colab.research.google.com/assets/colab-badge.svg\" alt=\"Open In Colab\"/></a>"
      ]
    },
    {
      "cell_type": "markdown",
      "metadata": {
        "id": "Woo3wPxKXttD"
      },
      "source": [
        "# Convolution Neural Network Homework\n",
        "\n",
        "This is the 3rd assignment for CAP 4630 and we will go through some primary operations for image processsing and implement one of the earilest but representative convolution neural networks - LeNet-5 . \\\n",
        "You will use **\"Tasks\"** and **\"Hints\"** to finish the work. **(Total 100 Points)** \\\n",
        "You are **not** allowed to use Machine Learning libaries such as Scikit-learn and Keras for first section; but you are encouraged to employ Keras for second section.\n",
        "\n",
        "**Task Overview:**\n",
        "- Basic operations for Digital Image Processing (DIP)\n",
        "- LeNet-5"
      ]
    },
    {
      "cell_type": "markdown",
      "metadata": {
        "id": "zcThFgDuXttF"
      },
      "source": [
        "## 1 - Basic Image Processing ##\n",
        "### 1.1 Data Preparation \n",
        "\n",
        "Import useful packages and prepare image data as an array for image processing. **(5 Points)**\n",
        "\n",
        "**Tasks:**\n",
        "1. Import numpy and rename it to np.\n",
        "2. Import imageio and call imread to convert image to an array.\n",
        "3. Show the image in the output box before image-array conversion.\n",
        "4. Print out the size of the array\n",
        "5. Print out the numeric matrix form of image, i.e. the obtained array after image-array conversion.\n",
        "\n",
        "References:\n",
        "- [numpy](www.numpy.org) is the fundamental package for scientific computing with Python.\n",
        "- [imageio](https://imageio.github.io/) is a python library for basic image reading and writing.\n",
        "\n",
        "**Hints:**\n",
        "1. Image data is under current directory, i.e., \"./image.jpg\".\n",
        "2. You may consider importing \"display\" and \"Image\" from IPython.display for image display."
      ]
    },
    {
      "cell_type": "code",
      "metadata": {
        "id": "EfowfwrPXttH",
        "colab": {
          "base_uri": "https://localhost:8080/",
          "height": 1000
        },
        "outputId": "3a733f2c-077d-48d3-f76e-fe8e0bc234b6"
      },
      "source": [
        "# Import useful libraries\n",
        "import numpy as np\n",
        "import pandas as pd\n",
        "import matplotlib.pyplot as plt\n",
        "import imageio as ii\n",
        "\n",
        "# Display original image\n",
        "image = ii.imread('image.jpg')\n",
        "imgplot = plt.imshow(image, cmap='gray')\n",
        "plt.show()\n",
        "\n",
        "# Convert image to array, print out the shape of array, and print out the entire array\n",
        "print(image.shape) \n",
        "print(image.size)\n",
        "print(image) "
      ],
      "execution_count": null,
      "outputs": [
        {
          "output_type": "display_data",
          "data": {
            "image/png": "[encoded data removed]",
            "text/plain": [
              "<Figure size 432x288 with 1 Axes>"
            ]
          },
          "metadata": {
            "tags": [],
            "needs_background": "light"
          }
        },
        {
          "output_type": "stream",
          "text": [
            "(30, 30)\n",
            "900\n",
            "[[ 98  89  78 112  90  93 158 112 122 117 107 121  90  75  67  93  73  67\n",
            "   96 152 167 151 166 154 134 105  53  51  55  44]\n",
            " [ 34  31  51  38  16  50 195 161 138 173 200 209 194 206 222 237 223 195\n",
            "  177 185 167 160 166 169 136  98  49  54  55  35]\n",
            " [ 78  84  94  71  81  69 190 204 233 240 249 234 232 241 250 235 235 236\n",
            "  224 194 169 181 170 162 121  95  55  49  52  47]\n",
            " [ 79  58  90 127 103 137 253 244 254 222 223 219 235 228 232 206 201 215\n",
            "  201 106 105 137 169 173 124  81  45  49  59  53]\n",
            " [ 31  75  44  81  89 191 242 255 228 208 231 233 236 222 227 199 177 192\n",
            "  208 104 137 109 170 194 159  88  44  54  63  46]\n",
            " [ 85  66  51 145 129 225 239 206 242 233 247 231 210 218 232 202 190 173\n",
            "  181  95 146  39 132 199 178 145 103  53  44  65]\n",
            " [ 81  60  76 178 216 214 209 230 240 229 230 211 157 176 214 218 185 186\n",
            "  198 154 203  33 100 157 157 179 162  72  39  78]\n",
            " [104  89 152 176 168 117 182 226 242 235 238 207  82  50  94 145 136 157\n",
            "  148 119 175  30 111 165 136 155 168 110  60  56]\n",
            " [ 95  39 181 160  91  13 180 237 240 242 221 102  24   7  19  12  38  95\n",
            "  101 142 155  30  89  91 107 145 161 113  60  53]\n",
            " [ 18  54 186 144 147  99 248 238 235 227 210 115  62  57  74  72  85  82\n",
            "   91 182  83  56  68  59 129 113 133 129 116  67]\n",
            " [ 84  79 201 132 185 229 217 206 210 188 188 155 160 169 164 141 111  70\n",
            "  126 154  49  40  69  73 104  85 120 132 158 125]\n",
            " [201 161 135 153 174 219 204 197 209 178 177 146 138 124 114 101  90  85\n",
            "  144 105  81  53  83 104  74  80 122 141 152 133]\n",
            " [162 150 147 212 176 180 190 187 161 107 114 140 191 178 114  49  74 117\n",
            "  112 118  99 114  93  98  96  90 104 139 102  67]\n",
            " [184 138 167 132  90 118 183 214 193 150 148 132 137 130 135 141  96 127\n",
            "  108 140  75 111 113  96 115 101  75  89  42  43]\n",
            " [172 127 105  83  61  34 134 149 188 134 119  97 106 106 115 120 109 107\n",
            "  123 139  70  77 110 103 102  91  67  68  42  61]\n",
            " [139  39  59  55  36  15  27 128 189 123  98  79 100 105 105  97  95  86\n",
            "  105 148  94  95  78  92  93  67  78 110  94  51]\n",
            " [162  27  19  24   2  34  19 104 153  91  88  71 100 151 122 118  98  96\n",
            "   92 143 136  86  92  79  83  64  35  31  61  87]\n",
            " [186 114  41  35  15  20  37  75 101  92  91  86 122 172 147  97  85  96\n",
            "   86 104  88  61  80  64  68  65  37  12  21  38]\n",
            " [183 164  24  17  41  42  75  49  67  80  74  86  98 104 116  99  81 101\n",
            "   90  94  97 116 149 125  69  83  64  30  28  42]\n",
            " [172 207  94  39  34  18  50  52  82  95  92  99  97  86 104 120  82  88\n",
            "   69  66  82 112 126  84  52  66  53  25  20  26]\n",
            " [159 164 106  37  51  56  38  56  62  87 101  90 108 125  99  84  94  90\n",
            "   78  79  86  97  89  48  79  77  59  41  34  27]\n",
            " [179 181 191 103  67  52  28  77  92 109 121 113 129 129  93  93  65  66\n",
            "   77  86  83  79  71  52  55  46  30  24  26  19]\n",
            " [198 178 191 158 154 149 142 139 144 144 109 102 103  73  72  98  89  84\n",
            "   94  92  76  65  51  40  19  21  12   9  19  25]\n",
            " [173 168 176 182 184 172 208 171 198 207 118  91 101  88 107  93 109  92\n",
            "   87  72  55  47  26   6   9  21  14   1   9  19]\n",
            " [180 180 176 177 187 189 165 134 130 188 137 113  70 107  79  61  81  61\n",
            "   47  49  48  30  10   0   4   5   5   5   4   7]\n",
            " [176 177 176 178 186 190 183 172 160 151 124 134 109  74  58  64  56  48\n",
            "   42  37  23   8   8  17   9   9  11  14  18  23]\n",
            " [175 174 176 180 181 185 195 207 179 208 217 168 122  92  94  48  52  34\n",
            "   18  14  12  10  14  21  33  28  23  23  26  28]\n",
            " [179 174 177 182 178 175 189 210 216 220 204 246 134 106  65  57  55  34\n",
            "   14   9  15  21  27  32  54  43  31  29  34  36]\n",
            " [183 176 177 185 182 172 179 196 255 153 188 221 225  84  82  51  42  39\n",
            "   33  25  19  23  41  59  49  37  27  31  47  59]\n",
            " [184 177 179 188 186 177 177 186 242 187 172 247 199 148  91  54  40  35\n",
            "   30  29  34  44  55  63  34  24  18  28  51  71]]\n"
          ],
          "name": "stdout"
        }
      ]
    },
    {
      "cell_type": "markdown",
      "metadata": {
        "id": "XRFq3aTpXttT"
      },
      "source": [
        "### 1.2 Implementation of Convolution Filter\n",
        "\n",
        "Process the obtained array from the image with convolution operation. **(20 Points)**\n",
        "\n",
        "**Tasks:**\n",
        "1. Prepare a 3X3 Laplacian kernel (aka Laplacial filter) with array as convolution filter.\n",
        "2. Conduct convolution on image with prepared kernel.\n",
        "3. Print out convolution result for first ten rows.\n",
        "4. Print out the shape of the convolution result.\n",
        "5. Display convolution result as image with matplotlib. (Don't worry about the value <0 or >255. Scaling process will be conducted in imshow function to make sure valid display.)\n",
        "\n",
        "\n",
        "**Hints:**\n",
        "1. Laplacian kernel is widely used for edge detection. Its form is shown below:\n",
        "2. You may consider the following steps for this implementation.\\\n",
        "    2.1 Extract all centriods of processing region for each convolution operation.\\\n",
        "    2.2 According to each centroid, locate all indices of the elements within the local region for each convolution operation.\\\n",
        "    2.3 Given obtained indices, locate pixel values (i.e. our obtained array elements) and conduct element-wise product between pixel and kernel values.\\\n",
        "    2.4 Sum element-wise product results and assign the value to convolution result at corresponding location.\\\n",
        "    **Note: we did not conduct padding for processed array, and thus, convolution result will become smaller than original array. You may think about the reason.**\n",
        "3. Validation for first 5X5 array (from upper-left corner), i.e., filtered_results[0:5,0:5]. The example figure is below.\n",
        "\n",
        "[[ 134.   37.   98.  195.  173.]\\\n",
        " [ -75.  -80.   56.  -65.  182.]\\\n",
        " [  96.  -37. -163.   22.   68.]\\\n",
        " [-101.  121.   81.  148.  -71.]\\\n",
        " [   7.  127. -141.  159. -127.]]"
      ]
    },
    {
      "cell_type": "code",
      "metadata": {
        "id": "NztKvxAvXttV",
        "colab": {
          "base_uri": "https://localhost:8080/",
          "height": 398
        },
        "outputId": "0acbd979-d38c-41c0-dd77-e0e98f70099c"
      },
      "source": [
        "######## Convolution with Laplacian Filter ##################\n",
        "def convolution(image, kernel, padding, strides):\n",
        "  xSize = int(((image.shape[0] - kernel.shape[0] + 2 * padding) / strides) + 1)\n",
        "  ySize = int(((image.shape[1] - kernel.shape[1] + 2 * padding) / strides) + 1)\n",
        "  output = np.zeros((xSize, ySize))\n",
        "\n",
        "  for x in range(image.shape[0]-2):\n",
        "    if x % strides == 0:\n",
        "      for y in range(image.shape[1]-2):\n",
        "        if y % strides == 0:\n",
        "          output[int(x//strides), int(y//strides)] = np.sum(np.multiply(image[x:x+kernel.shape[0], y:y+kernel.shape[1]], kernel))\n",
        "\n",
        "  return output\n",
        "\n",
        "array = np.array(([12, 18, 16, 14], [14, 16, 18, 12], [16, 18, 12, 14], [18, 12, 14, 16]))\n",
        "kernel = np.array(([0, 1, 0], [1, -4, 1], [0, 1, 0]))\n",
        "result1 = convolution(array, kernel, padding=0, strides=1)\n",
        "\n",
        "# Print convolution result \n",
        "print(array)\n",
        "print(np.array(result1[0:10, 0:10]))\n",
        "print(result1.shape)\n",
        "\n",
        "# Display convolution result\n",
        "convolutedImage = plt.imshow(result1)\n",
        "plt.show()"
      ],
      "execution_count": null,
      "outputs": [
        {
          "output_type": "stream",
          "text": [
            "[[12 18 16 14]\n",
            " [14 16 18 12]\n",
            " [16 18 12 14]\n",
            " [18 12 14 16]]\n",
            "[[  4. -16.]\n",
            " [-16.  16.]]\n",
            "(2, 2)\n"
          ],
          "name": "stdout"
        },
        {
          "output_type": "display_data",
          "data": {
            "image/png": "[encoded data removed]",
            "text/plain": [
              "<Figure size 432x288 with 1 Axes>"
            ]
          },
          "metadata": {
            "tags": [],
            "needs_background": "light"
          }
        }
      ]
    },
    {
      "cell_type": "markdown",
      "metadata": {
        "id": "jWfWx8-gXttc"
      },
      "source": [
        "### 1.3 Modification on Convolution Scheme\n",
        "\n",
        "Conduct the convolution with the same filter as above, but change the stride to 2. **(5 Points)**\n",
        "\n",
        "**Tasks:**\n",
        "1. Modify the convolution process with stride=2\n",
        "2. Print out convolution result for first ten rows.\n",
        "3. Print out the shape of the convolution result.\n",
        "4. Display convolution result as image with matplotlib.(Don't worry about the value <0 or >255. Scaling process will be conducted in imshow function to make sure valid display.)\n",
        "\n",
        "**Hints:**\n",
        "1. You may just reduce the centroid pool according to stride=2, and then, follow the same convolution process above.\n",
        "    **Note: After increase of stride, the size of convolution result is further shrinked. You may think about the reason.**\n",
        "2. Validation for first 5X5 array (from upper-left corner), i.e., filtered_results[0:5,0:5]. The example figure is below.\n",
        "\n",
        "[[ 134.   98.  173.    5.    3.]\\\n",
        " [  96. -163.   68.  -10.   37.]\\\n",
        " [   7. -141. -127.  142.   -6.]\\\n",
        " [  -1.  -46.  109.  -13.   11.]\\\n",
        " [ 106.   49.  241.  -26.  -33.]]\n"
      ]
    },
    {
      "cell_type": "code",
      "metadata": {
        "id": "M5iPa2FBXttd",
        "colab": {
          "base_uri": "https://localhost:8080/",
          "height": 467
        },
        "outputId": "0bf3bb9e-f4b3-4186-ac83-a94b3db2f10e"
      },
      "source": [
        "######## Convolution with Laplacian Filter and the setting of stride=2 ##################\n",
        "kernel = np.array(([0, 1, 0], [1, -4, 1], [0, 1, 0]))\n",
        "result2 = convolution(image, kernel, padding=0, strides=2)\n",
        "\n",
        "# Print convolution result \n",
        "print(np.array(result2[0:10, 0:10]))\n",
        "print(result2.shape)\n",
        "\n",
        "# Display convolution result\n",
        "convolutedImage = plt.imshow(result2)\n",
        "plt.show()"
      ],
      "execution_count": null,
      "outputs": [
        {
          "output_type": "stream",
          "text": [
            "[[ 134.   98.  173.    5.    3.  -87.  -92. -175.  -77.  -50.]\n",
            " [  96. -163.   68.  -10.   37.   49.   18.   43.  -30.  180.]\n",
            " [   7. -141. -127.  142.   -6.  -23.  -32.   31.   57.  205.]\n",
            " [  -1.  -46.  109.  -13.   11. -195.  159. -120.  -63.  143.]\n",
            " [ 106.   49.  241.  -26.  -33.   69.   84.   24.   13. -258.]\n",
            " [ -79.   41.  -89.   18.  -31.   26.  103.  -10.   81.   77.]\n",
            " [  76.   24.   15. -144.  -18.   -6.   36. -164.  -80. -120.]\n",
            " [ 196.  -18.   71.  -43.   20.   50.   42.   50.   59. -111.]\n",
            " [ -38.  -43.   48.   -9.   -5.   26. -164.   61.  -16.   -5.]\n",
            " [-234.   26.  110.   29.  -39.  -31.   86. -111.  -10.   60.]]\n",
            "(14, 14)\n"
          ],
          "name": "stdout"
        },
        {
          "output_type": "display_data",
          "data": {
            "image/png": "[encoded data removed]",
            "text/plain": [
              "<Figure size 432x288 with 1 Axes>"
            ]
          },
          "metadata": {
            "tags": [],
            "needs_background": "light"
          }
        }
      ]
    },
    {
      "cell_type": "markdown",
      "metadata": {
        "id": "_g88K_G4Xtth"
      },
      "source": [
        "### 1.4 Implementation of MaxPooling\n",
        "\n",
        "Process the obtained array from the image with MaxPooling operation. **(10 Points)**\n",
        "\n",
        "**Tasks:**\n",
        "1. Prepare a 2X2 pooling mask.\n",
        "2. Conduct max pooing on image with prepared mask.\n",
        "3. Print out convolution result for first ten rows.\n",
        "4. Print out the shape of the convolution result.\n",
        "5. Display convolution result as image with matplotlib.(Don't worry about the value <0 or >255. Scaling process will be conducted in imshow function to make sure valid display.)\n",
        "\n",
        "**Hints:**\n",
        "1. You may just modify the centroid pool to top-left corner pool, and then, follow the same strategy above.\\\n",
        "    **Note: After the pooling, the size of the array is shrinked. You may think about the reason.**\n",
        "2. Validation for first 5X5 array (from upper-left corner), i.e., pooled_results[0:5,0:5].The example figure is below.\n",
        "\n",
        "[[ 98. 112.  93. 195. 173.]\\\n",
        " [ 84. 127. 137. 253. 254.]\\\n",
        " [ 85. 145. 225. 255. 242.]\\\n",
        " [104. 178. 216. 230. 242.]\\\n",
        " [ 95. 186. 147. 248. 242.]]\n"
      ]
    },
    {
      "cell_type": "code",
      "metadata": {
        "id": "0vI82SqMXtti",
        "colab": {
          "base_uri": "https://localhost:8080/",
          "height": 375
        },
        "outputId": "e40348e4-4445-4bab-fb98-c3af69bba1d1"
      },
      "source": [
        "######## MaxPooling with the setting of 2X2 ##################\n",
        "def maxPooling(image, kernel, size):\n",
        "  x = image.shape[0] // size\n",
        "  y = image.shape[1] // size\n",
        "\n",
        "  return image[:x*size, :y*size].reshape(x, size, y, size).max(axis=(1, 3))\n",
        "\n",
        "kernel = np.array(([1, 1],[1, 1]))\n",
        "result3 = maxPooling(image, kernel, size=2)\n",
        "\n",
        "# Print convolution result \n",
        "print(np.array(result3[0:5, 0:5]))\n",
        "print(result3.shape)\n",
        "\n",
        "# Display convolution result\n",
        "convolutedImage = plt.imshow(result3)\n",
        "plt.show()"
      ],
      "execution_count": null,
      "outputs": [
        {
          "output_type": "stream",
          "text": [
            "[[ 98 112  93 195 173]\n",
            " [ 84 127 137 253 254]\n",
            " [ 85 145 225 255 242]\n",
            " [104 178 216 230 242]\n",
            " [ 95 186 147 248 242]]\n",
            "(15, 15)\n"
          ],
          "name": "stdout"
        },
        {
          "output_type": "display_data",
          "data": {
            "image/png": "[encoded data removed]",
            "text/plain": [
              "<Figure size 432x288 with 1 Axes>"
            ]
          },
          "metadata": {
            "tags": [],
            "needs_background": "light"
          }
        }
      ]
    },
    {
      "cell_type": "markdown",
      "metadata": {
        "id": "kYgXtixKXttn"
      },
      "source": [
        "## 2 - Convolution Neural Network ##\n",
        " \n",
        "In this section, we will use LeNet-5 (LeCun et al., 1998), one of representative deep nueral networks, to solve a  classification problem with Fashion MNIST benchmark.\n",
        "\n",
        "### 2.1 Library Preparation\n",
        "\n",
        "Import useful deep learning packages. \n",
        "\n",
        "**Tasks:**\n",
        "1. Import numpy and rename it to np.\n",
        "2. Import keras from tensorflow.\n",
        "3. Import layers from tensorflow.keras\n"
      ]
    },
    {
      "cell_type": "code",
      "metadata": {
        "id": "Ku3-q3ohXtto"
      },
      "source": [
        "import numpy as np\n",
        "import tensorflow as tf\n",
        "import pandas as pd\n",
        "import matplotlib.pyplot as plt\n",
        "from tensorflow import keras\n",
        "from tensorflow.keras import layers\n",
        "from tensorflow.keras import regularizers"
      ],
      "execution_count": null,
      "outputs": []
    },
    {
      "cell_type": "markdown",
      "metadata": {
        "id": "TW9NafimXttv"
      },
      "source": [
        "### 2.2 Training Data Preparation\n",
        "\n",
        "Import useful packages and prepare Fashion MNIST data. **(15 Points)**\n",
        "\n",
        "**Tasks:**\n",
        "1. Download Fashion MNIST data and split it with keras and prepare training/test data sets.\n",
        "2. Preprocess training/test data with normalization, dimension extension, and padding (for LeNet-5 configuration).\n",
        "3. Preprocess label data to binary class matrices.\n",
        "4. Print out first image in training set and its correponding label index\n",
        "5. Print out the shape of total training data, the number of training samples, and the number of test samples.\n",
        "\n",
        "**Hints**\n",
        "1. You may consider load function from the reference link. https://keras.io/api/datasets/ It provides dataloader function which can tackle downloading and data splitting automatically.\n",
        "2. For label preprocessing, you may consider **keras.utils.to_categorical** to convert class vectors to binary class matrices. This conversion makes sure the label can match the format of prediction output from neural network.\n",
        "3. For image display, consider showing the image and label **before dimension extension and label preprocessing**.\n",
        "4. You may consider MNIST processing shown in class as an example.\n",
        "\n",
        "**References**\n",
        "- Fashion MNIST https://github.com/zalandoresearch/fashion-mnist\n"
      ]
    },
    {
      "cell_type": "code",
      "metadata": {
        "id": "rtnY9577Xttv",
        "colab": {
          "base_uri": "https://localhost:8080/",
          "height": 338
        },
        "outputId": "6595c97d-fed0-4fb7-8cda-c54bdfa8a20a"
      },
      "source": [
        "# the data, split between train and test sets\n",
        "(x_train, y_train), (x_test, y_test) = keras.datasets.fashion_mnist.load_data()\n",
        "\n",
        "# Model / data parameters\n",
        "num_classes = 10\n",
        "input_shape = (28, 28, 1)\n",
        "\n",
        "# Image Normalization (Scaling to [0, 1])\n",
        "x_train = x_train.astype(\"float32\") / 255\n",
        "x_test = x_test.astype(\"float32\") / 255\n",
        "\n",
        "# Print out first image and its correponding label index\n",
        "plt.figure()\n",
        "plt.imshow(x_train[0])\n",
        "plt.grid(False)\n",
        "print(\"First Image Label: {0}\".format(y_train[0]))\n",
        "plt.show()\n",
        "\n",
        "# Dimension extension to ensure that images have shape (28, 28, 1)\n",
        "x_train = np.expand_dims(x_train, -1)\n",
        "x_test = np.expand_dims(x_test, -1)\n",
        "\n",
        "# Conduct padding on training/test images to (32, 32, 1) for LeNet-5\n",
        "x_train = np.pad(x_train, pad_width=((0,0), (2,2), (2,2), (0,0)))\n",
        "x_test = np.pad(x_test, pad_width=((0,0), (2,2), (2,2), (0,0)))\n",
        "\n",
        "# Print out the training/test data shapes and the numbers of training/test samples\n",
        "print(\"x_train shape:\", x_train.shape)\n",
        "print(x_train.shape[0], \"train samples\")\n",
        "print(x_test.shape[0], \"test samples\")\n",
        "\n",
        "# convert label vectors to binary class matrices for training/test labels \n",
        "y_train = keras.utils.to_categorical(y_train, num_classes)\n",
        "y_test = keras.utils.to_categorical(y_test, num_classes)"
      ],
      "execution_count": null,
      "outputs": [
        {
          "output_type": "stream",
          "text": [
            "First Image Label: 9\n"
          ],
          "name": "stdout"
        },
        {
          "output_type": "display_data",
          "data": {
            "image/png": "[encoded data removed]",
            "text/plain": [
              "<Figure size 432x288 with 1 Axes>"
            ]
          },
          "metadata": {
            "tags": [],
            "needs_background": "light"
          }
        },
        {
          "output_type": "stream",
          "text": [
            "x_train shape: (60000, 32, 32, 1)\n",
            "60000 train samples\n",
            "10000 test samples\n"
          ],
          "name": "stdout"
        }
      ]
    },
    {
      "cell_type": "markdown",
      "metadata": {
        "id": "YmDKBrQ-Xttz"
      },
      "source": [
        "### 2.2 LeNet-5 \n",
        "\n",
        "Construct LeNet-5 as learning model for Fashion MNIST classification task. **(15 Points)**\n",
        "\n",
        "**Tasks:**\n",
        "1. Build up LeNet-5 with keras.Sequential\n",
        "2. Print out the **model summary**.\n",
        "\n",
        "**Hints:**\n",
        "1. You may consider the convolution neural network shown in class as an example.\n",
        "2. The structure of LeNet-5 is listed below. Try to map each step to related processing operation. You can also search some materials to faciliate implementation. \n",
        "3. Kindly note that we modify some original settings here. \\\n",
        "    First, we change tanh activation to \"relu\" activation here. Please use \"**activation=\"relu\"**\" for implementation.\\\n",
        "    Next, we use MaxPooling instead of original AveragePooling. Please use \"**MaxPooling2D(pool_size=(2, 2))**\" for implementation.\n",
        "\n",
        "**References:**\n",
        "- http://yann.lecun.com/exdb/lenet/\n"
      ]
    },
    {
      "cell_type": "code",
      "metadata": {
        "id": "45Qc4nTQXtt0",
        "colab": {
          "base_uri": "https://localhost:8080/"
        },
        "outputId": "fbb3ece3-42cc-4e71-849d-a3fce2211201"
      },
      "source": [
        "### Construct LeNet-5 and Print out Model Summary\n",
        "model = keras.Sequential(\n",
        "    [\n",
        "      keras.Input(shape=[32, 32, 1]),\n",
        "      layers.Conv2D(filters=6, kernel_size=(5, 5), activation=\"relu\", kernel_regularizer=regularizers.l2(4e-5)),\n",
        "      layers.MaxPooling2D(pool_size=(2, 2)),\n",
        "      layers.Conv2D(filters=16, kernel_size=(5, 5), activation=\"relu\", kernel_regularizer=regularizers.l2(4e-5)),\n",
        "      layers.MaxPooling2D(pool_size=(2, 2)),\n",
        "      layers.Flatten(),\n",
        "      layers.Dense(120, activation=\"relu\", kernel_regularizer=regularizers.l2(4e-5)),\n",
        "      layers.Dense(84, activation=\"relu\", kernel_regularizer=regularizers.l2(4e-5)),\n",
        "      layers.Dense(num_classes, activation=\"softmax\", kernel_regularizer=regularizers.l2(4e-5))\n",
        "    ]\n",
        ")\n",
        "\n",
        "model.summary()"
      ],
      "execution_count": null,
      "outputs": [
        {
          "output_type": "stream",
          "text": [
            "Model: \"sequential_7\"\n",
            "_________________________________________________________________\n",
            "Layer (type)                 Output Shape              Param #   \n",
            "=================================================================\n",
            "conv2d_14 (Conv2D)           (None, 28, 28, 6)         156       \n",
            "_________________________________________________________________\n",
            "max_pooling2d_14 (MaxPooling (None, 14, 14, 6)         0         \n",
            "_________________________________________________________________\n",
            "conv2d_15 (Conv2D)           (None, 10, 10, 16)        2416      \n",
            "_________________________________________________________________\n",
            "max_pooling2d_15 (MaxPooling (None, 5, 5, 16)          0         \n",
            "_________________________________________________________________\n",
            "flatten_7 (Flatten)          (None, 400)               0         \n",
            "_________________________________________________________________\n",
            "dense_21 (Dense)             (None, 120)               48120     \n",
            "_________________________________________________________________\n",
            "dense_22 (Dense)             (None, 84)                10164     \n",
            "_________________________________________________________________\n",
            "dense_23 (Dense)             (None, 10)                850       \n",
            "=================================================================\n",
            "Total params: 61,706\n",
            "Trainable params: 61,706\n",
            "Non-trainable params: 0\n",
            "_________________________________________________________________\n"
          ],
          "name": "stdout"
        }
      ]
    },
    {
      "cell_type": "markdown",
      "metadata": {
        "id": "gx5VlGLJXtt4"
      },
      "source": [
        "### 2.3 LeNet-5 Model Training\n",
        "\n",
        "Train LeNet-5 model with specific training strategy. **(15 Points)**\n",
        "\n",
        "**Tasks:**\n",
        "1. Set batch size to **64** for training. \n",
        "2. Pick **SGD optimizer** with learning rate of **0.1**, learning rate decay of **4e-5** (i.e., decay=4e-5), momentum of **0.9**, and **nesterov=True**, for model training.\n",
        "3. Pick **cross-entropy** loss function for optimization and evaluation metrics is set to **accuracy**.\n",
        "4. Set validation_split to **0.1** which means it excludes 1/10 training data for validation process.\n",
        "4. Train the model with **10 epochs**.\n",
        "5. Evaluate model with test data set and print out **test loss** and **test accuracy**.\n",
        "\n",
        "**Hints:**\n",
        "1. You may consider the examples from Keras to specify optimizer parameters. https://keras.io/api/optimizers/\n",
        "2. You may use the example shown in class to faciliate this implementation.\n",
        "3. You may see slightly different results every time you run the training. It is normal since there is randomness for training. However, you should expect the validation accuracy is above **87%**."
      ]
    },
    {
      "cell_type": "code",
      "metadata": {
        "id": "U_YTD6ayXtt4",
        "colab": {
          "base_uri": "https://localhost:8080/"
        },
        "outputId": "b9631513-83ec-4c3f-fb09-07f804b8620e"
      },
      "source": [
        "### Train with SGD optimizer with learning rate =0.1, regularizer=4e-5, momentum=0.9, and nesterov=True\n",
        "batch_size = 64\n",
        "decay = 4e-5\n",
        "epochs = 10\n",
        "\n",
        "optimizerSGD = keras.optimizers.SGD(learning_rate=0.1, momentum=0.9, nesterov=True, name='SGD')\n",
        "model.compile(loss=\"categorical_crossentropy\", optimizer=optimizerSGD, metrics=[\"accuracy\"])\n",
        "\n",
        "model.fit(x_train, y_train, batch_size=batch_size, epochs=epochs, validation_split=0.1)"
      ],
      "execution_count": null,
      "outputs": [
        {
          "output_type": "stream",
          "text": [
            "Epoch 1/10\n",
            "844/844 [==============================] - 34s 40ms/step - loss: 0.5741 - accuracy: 0.7949 - val_loss: 0.4722 - val_accuracy: 0.8263\n",
            "Epoch 2/10\n",
            "844/844 [==============================] - 33s 39ms/step - loss: 0.4311 - accuracy: 0.8511 - val_loss: 0.4404 - val_accuracy: 0.8487\n",
            "Epoch 3/10\n",
            "844/844 [==============================] - 33s 39ms/step - loss: 0.4054 - accuracy: 0.8625 - val_loss: 0.4162 - val_accuracy: 0.8592\n",
            "Epoch 4/10\n",
            "844/844 [==============================] - 33s 39ms/step - loss: 0.3948 - accuracy: 0.8658 - val_loss: 0.3794 - val_accuracy: 0.8690\n",
            "Epoch 5/10\n",
            "844/844 [==============================] - 33s 39ms/step - loss: 0.3864 - accuracy: 0.8691 - val_loss: 0.4005 - val_accuracy: 0.8640\n",
            "Epoch 6/10\n",
            "844/844 [==============================] - 33s 39ms/step - loss: 0.3820 - accuracy: 0.8720 - val_loss: 0.3884 - val_accuracy: 0.8718\n",
            "Epoch 7/10\n",
            "844/844 [==============================] - 33s 39ms/step - loss: 0.3756 - accuracy: 0.8762 - val_loss: 0.4018 - val_accuracy: 0.8618\n",
            "Epoch 8/10\n",
            "844/844 [==============================] - 33s 39ms/step - loss: 0.3715 - accuracy: 0.8781 - val_loss: 0.3807 - val_accuracy: 0.8765\n",
            "Epoch 9/10\n",
            "844/844 [==============================] - 33s 39ms/step - loss: 0.3717 - accuracy: 0.8799 - val_loss: 0.4245 - val_accuracy: 0.8660\n",
            "Epoch 10/10\n",
            "844/844 [==============================] - 33s 39ms/step - loss: 0.3717 - accuracy: 0.8787 - val_loss: 0.4057 - val_accuracy: 0.8735\n"
          ],
          "name": "stdout"
        },
        {
          "output_type": "execute_result",
          "data": {
            "text/plain": [
              "<tensorflow.python.keras.callbacks.History at 0x7efc5ed99828>"
            ]
          },
          "metadata": {
            "tags": []
          },
          "execution_count": 19
        }
      ]
    },
    {
      "cell_type": "code",
      "metadata": {
        "id": "6HzMLZLUXtt-",
        "colab": {
          "base_uri": "https://localhost:8080/"
        },
        "outputId": "53f4addc-5ce9-4ccf-cd88-3c42c8ae518e"
      },
      "source": [
        "### Print out the evaluation results, including test loss and test accuracy.\n",
        "score = model.evaluate(x_test, y_test, verbose=0)\n",
        "print(\"Test loss:\", score[0])\n",
        "print(\"Test accuracy:\", score[1])"
      ],
      "execution_count": null,
      "outputs": [
        {
          "output_type": "stream",
          "text": [
            "Test loss: 0.4298452138900757\n",
            "Test accuracy: 0.8682000041007996\n"
          ],
          "name": "stdout"
        }
      ]
    },
    {
      "cell_type": "markdown",
      "metadata": {
        "id": "MeKKrH_FXtuB"
      },
      "source": [
        "### 2.4 Different Training Schemes\n",
        "\n",
        "Train LeNet-5 model with different strategies. **(15 Points)**\\\n",
        "You may put reported numbers and plots in one figure or screenshot. \\\n",
        "Please insert the resulting graphs or screenshots in below box in **Markdown** Mode.\n",
        "\n",
        "**Tasks:**\n",
        "1. Try to set batch size to **128** and see if there is a difference. \\\n",
        "    Report **final test loss and test accuracy** and **intermediate training/validation loss plots over epochs**. \n",
        "2. Try to set optimizer to **Adam** (optimizer=\"adam\") and see if there is a difference. \\\n",
        "    Report **final test loss and test accuracy** and **intermediate training/validation loss plots over epochs**. \n",
        "3. Try to change learning rate to **0.05** and see if there is a difference. \\\n",
        "    Report **final test loss and test accuracy** and **intermediate training/validation loss plots over epochs**. \n",
        "\n",
        "**Hints:**\n",
        "1. You may refresh the model every time to make sure it starts the training from scratch.\n",
        "2. Each modification only changes ONE hyperparameter. For example, for Adam optimizer, please keep batch size of 64; for learning rate change, please keep batch size of 64 and SGD optimizer.\n"
      ]
    },
    {
      "cell_type": "markdown",
      "metadata": {
        "id": "XXw9qv_JXtuC"
      },
      "source": [
        "**First graph**"
      ]
    },
    {
      "cell_type": "code",
      "metadata": {
        "id": "X2a0bsN1rVSk",
        "colab": {
          "base_uri": "https://localhost:8080/",
          "height": 940
        },
        "outputId": "8a71e977-f80a-4a9a-bb0c-ebb9382ad8f6"
      },
      "source": [
        "##################### Change batch size to 128 #####################\n",
        "### Train with SGD optimizer with learning rate =0.1, regularizer=4e-5, momentum=0.9, and nesterov=True\n",
        "batch_size = 128\n",
        "decay = 4e-5\n",
        "epochs = 10\n",
        "\n",
        "optimizerSGD = keras.optimizers.SGD(learning_rate=0.1, momentum=0.9, nesterov=True, name='SGD')\n",
        "model.compile(loss=\"categorical_crossentropy\", optimizer=optimizerSGD, metrics=[\"accuracy\"])\n",
        "graph1 = model.fit(x_train, y_train, batch_size=batch_size, epochs=epochs, validation_split=0.1)\n",
        "\n",
        "# summarize history for accuracy\n",
        "plt.plot(graph1.history['accuracy'])\n",
        "plt.plot(graph1.history['val_accuracy'])\n",
        "plt.title('model accuracy')\n",
        "plt.ylabel('accuracy')\n",
        "plt.xlabel('epoch')\n",
        "plt.legend(['train', 'test'], loc='upper left')\n",
        "plt.show()\n",
        "# summarize history for loss\n",
        "plt.plot(graph1.history['loss'])\n",
        "plt.plot(graph1.history['val_loss'])\n",
        "plt.title('model loss')\n",
        "plt.ylabel('loss')\n",
        "plt.xlabel('epoch')\n",
        "plt.legend(['train', 'test'], loc='upper left')\n",
        "plt.show()"
      ],
      "execution_count": null,
      "outputs": [
        {
          "output_type": "stream",
          "text": [
            "Epoch 1/10\n",
            "422/422 [==============================] - 28s 67ms/step - loss: 0.7219 - accuracy: 0.7448 - val_loss: 0.4683 - val_accuracy: 0.8295\n",
            "Epoch 2/10\n",
            "422/422 [==============================] - 28s 67ms/step - loss: 0.3930 - accuracy: 0.8637 - val_loss: 0.3637 - val_accuracy: 0.8778\n",
            "Epoch 3/10\n",
            "422/422 [==============================] - 28s 67ms/step - loss: 0.3623 - accuracy: 0.8764 - val_loss: 0.3696 - val_accuracy: 0.8772\n",
            "Epoch 4/10\n",
            "422/422 [==============================] - 28s 68ms/step - loss: 0.3392 - accuracy: 0.8847 - val_loss: 0.3693 - val_accuracy: 0.8763\n",
            "Epoch 5/10\n",
            "422/422 [==============================] - 28s 67ms/step - loss: 0.3270 - accuracy: 0.8894 - val_loss: 0.3502 - val_accuracy: 0.8832\n",
            "Epoch 6/10\n",
            "422/422 [==============================] - 28s 67ms/step - loss: 0.3173 - accuracy: 0.8938 - val_loss: 0.3419 - val_accuracy: 0.8805\n",
            "Epoch 7/10\n",
            "422/422 [==============================] - 29s 68ms/step - loss: 0.3056 - accuracy: 0.8982 - val_loss: 0.3415 - val_accuracy: 0.8857\n",
            "Epoch 8/10\n",
            "422/422 [==============================] - 29s 68ms/step - loss: 0.3010 - accuracy: 0.8983 - val_loss: 0.3312 - val_accuracy: 0.8905\n",
            "Epoch 9/10\n",
            "422/422 [==============================] - 28s 68ms/step - loss: 0.2942 - accuracy: 0.9030 - val_loss: 0.3497 - val_accuracy: 0.8845\n",
            "Epoch 10/10\n",
            "422/422 [==============================] - 29s 68ms/step - loss: 0.2918 - accuracy: 0.9026 - val_loss: 0.3506 - val_accuracy: 0.8853\n"
          ],
          "name": "stdout"
        },
        {
          "output_type": "display_data",
          "data": {
            "image/png": "[encoded data removed]",
            "text/plain": [
              "<Figure size 432x288 with 1 Axes>"
            ]
          },
          "metadata": {
            "tags": [],
            "needs_background": "light"
          }
        },
        {
          "output_type": "display_data",
          "data": {
            "image/png": "[encoded data removed]",
            "text/plain": [
              "<Figure size 432x288 with 1 Axes>"
            ]
          },
          "metadata": {
            "tags": [],
            "needs_background": "light"
          }
        }
      ]
    },
    {
      "cell_type": "code",
      "metadata": {
        "id": "In7NjcytvLL6",
        "colab": {
          "base_uri": "https://localhost:8080/"
        },
        "outputId": "e1420d61-f8c0-41e9-e661-d893db4e8952"
      },
      "source": [
        "### Print out the evaluation results, including test loss and test accuracy.\n",
        "score1 = model.evaluate(x_test, y_test, verbose=0)\n",
        "print(\"Test loss:\", score1[0])\n",
        "print(\"Test accuracy:\", score1[1])"
      ],
      "execution_count": null,
      "outputs": [
        {
          "output_type": "stream",
          "text": [
            "Test loss: 0.3636353611946106\n",
            "Test accuracy: 0.8795999884605408\n"
          ],
          "name": "stdout"
        }
      ]
    },
    {
      "cell_type": "markdown",
      "metadata": {
        "id": "sUyfhQLmXtuD"
      },
      "source": [
        "**Second graph**"
      ]
    },
    {
      "cell_type": "code",
      "metadata": {
        "id": "wxASyxH1rVkT",
        "colab": {
          "base_uri": "https://localhost:8080/",
          "height": 940
        },
        "outputId": "9b479f01-1e77-4e11-c6ea-6436a9675c12"
      },
      "source": [
        "##################### Set optimizer to Adam #####################\n",
        "### Train with SGD optimizer with learning rate =0.1, regularizer=4e-5, momentum=0.9, and nesterov=True\n",
        "batch_size = 64\n",
        "decay = 4e-5\n",
        "epochs = 10\n",
        "\n",
        "#optimizerSGD = keras.optimizers.SGD(learning_rate=0.1, momentum=0.9, nesterov=True, name='SGD')\n",
        "model.compile(loss=\"categorical_crossentropy\", optimizer=\"adam\", metrics=[\"accuracy\"])\n",
        "graph2 = model.fit(x_train, y_train, batch_size=batch_size, epochs=epochs, validation_split=0.1)\n",
        "\n",
        "# summarize history for accuracy\n",
        "plt.plot(graph2.history['accuracy'])\n",
        "plt.plot(graph2.history['val_accuracy'])\n",
        "plt.title('model accuracy')\n",
        "plt.ylabel('accuracy')\n",
        "plt.xlabel('epoch')\n",
        "plt.legend(['train', 'test'], loc='upper left')\n",
        "plt.show()\n",
        "# summarize history for loss\n",
        "plt.plot(graph2.history['loss'])\n",
        "plt.plot(graph2.history['val_loss'])\n",
        "plt.title('model loss')\n",
        "plt.ylabel('loss')\n",
        "plt.xlabel('epoch')\n",
        "plt.legend(['train', 'test'], loc='upper left')\n",
        "plt.show()"
      ],
      "execution_count": null,
      "outputs": [
        {
          "output_type": "stream",
          "text": [
            "Epoch 1/10\n",
            "844/844 [==============================] - 34s 40ms/step - loss: 0.5966 - accuracy: 0.7854 - val_loss: 0.4403 - val_accuracy: 0.8453\n",
            "Epoch 2/10\n",
            "844/844 [==============================] - 34s 40ms/step - loss: 0.3982 - accuracy: 0.8612 - val_loss: 0.3819 - val_accuracy: 0.8670\n",
            "Epoch 3/10\n",
            "844/844 [==============================] - 33s 40ms/step - loss: 0.3541 - accuracy: 0.8751 - val_loss: 0.3574 - val_accuracy: 0.8773\n",
            "Epoch 4/10\n",
            "844/844 [==============================] - 34s 40ms/step - loss: 0.3225 - accuracy: 0.8866 - val_loss: 0.3241 - val_accuracy: 0.8860\n",
            "Epoch 5/10\n",
            "844/844 [==============================] - 34s 40ms/step - loss: 0.2991 - accuracy: 0.8957 - val_loss: 0.3228 - val_accuracy: 0.8895\n",
            "Epoch 6/10\n",
            "844/844 [==============================] - 34s 40ms/step - loss: 0.2821 - accuracy: 0.9019 - val_loss: 0.3104 - val_accuracy: 0.8903\n",
            "Epoch 7/10\n",
            "844/844 [==============================] - 34s 40ms/step - loss: 0.2700 - accuracy: 0.9067 - val_loss: 0.2927 - val_accuracy: 0.9008\n",
            "Epoch 8/10\n",
            "844/844 [==============================] - 34s 40ms/step - loss: 0.2575 - accuracy: 0.9114 - val_loss: 0.3148 - val_accuracy: 0.8865\n",
            "Epoch 9/10\n",
            "844/844 [==============================] - 34s 40ms/step - loss: 0.2473 - accuracy: 0.9155 - val_loss: 0.2952 - val_accuracy: 0.9022\n",
            "Epoch 10/10\n",
            "844/844 [==============================] - 34s 40ms/step - loss: 0.2362 - accuracy: 0.9197 - val_loss: 0.2887 - val_accuracy: 0.9047\n"
          ],
          "name": "stdout"
        },
        {
          "output_type": "display_data",
          "data": {
            "image/png": "[encoded data removed]",
            "text/plain": [
              "<Figure size 432x288 with 1 Axes>"
            ]
          },
          "metadata": {
            "tags": [],
            "needs_background": "light"
          }
        },
        {
          "output_type": "display_data",
          "data": {
            "image/png": "[encoded data removed]",
            "text/plain": [
              "<Figure size 432x288 with 1 Axes>"
            ]
          },
          "metadata": {
            "tags": [],
            "needs_background": "light"
          }
        }
      ]
    },
    {
      "cell_type": "code",
      "metadata": {
        "id": "1vEBywYhx2-P",
        "colab": {
          "base_uri": "https://localhost:8080/"
        },
        "outputId": "e4b7c770-5fbc-48c2-965b-e9d6c37849df"
      },
      "source": [
        "### Print out the evaluation results, including test loss and test accuracy.\n",
        "score2 = model.evaluate(x_test, y_test, verbose=0)\n",
        "print(\"Test loss:\", score2[0])\n",
        "print(\"Test accuracy:\", score2[1])"
      ],
      "execution_count": null,
      "outputs": [
        {
          "output_type": "stream",
          "text": [
            "Test loss: 0.2991604804992676\n",
            "Test accuracy: 0.8998000025749207\n"
          ],
          "name": "stdout"
        }
      ]
    },
    {
      "cell_type": "markdown",
      "metadata": {
        "id": "CSGTocVGXtuE"
      },
      "source": [
        "**Third graph**"
      ]
    },
    {
      "cell_type": "code",
      "metadata": {
        "id": "3sbyMlIzxsQx",
        "colab": {
          "base_uri": "https://localhost:8080/",
          "height": 940
        },
        "outputId": "68f2d733-378c-4d0f-ecde-026c01d5c037"
      },
      "source": [
        "##################### Change learning rate to 0.05 #####################\n",
        "batch_size = 64\n",
        "decay = 4e-5\n",
        "epochs = 10\n",
        "\n",
        "keras.optimizers.SGD(learning_rate=0.05, momentum=0.9, nesterov=True, name='SGD')\n",
        "model.compile(loss=\"categorical_crossentropy\", optimizer=\"SGD\", metrics=[\"accuracy\"])\n",
        "graph3 = model.fit(x_train, y_train, batch_size=batch_size, epochs=epochs, validation_split=0.1)\n",
        "\n",
        "# summarize history for accuracy\n",
        "plt.plot(graph3.history['accuracy'])\n",
        "plt.plot(graph3.history['val_accuracy'])\n",
        "plt.title('model accuracy')\n",
        "plt.ylabel('accuracy')\n",
        "plt.xlabel('epoch')\n",
        "plt.legend(['train', 'test'], loc='upper left')\n",
        "plt.show()\n",
        "# summarize history for loss\n",
        "plt.plot(graph3.history['loss'])\n",
        "plt.plot(graph3.history['val_loss'])\n",
        "plt.title('model loss')\n",
        "plt.ylabel('loss')\n",
        "plt.xlabel('epoch')\n",
        "plt.legend(['train', 'test'], loc='upper left')\n",
        "plt.show()"
      ],
      "execution_count": null,
      "outputs": [
        {
          "output_type": "stream",
          "text": [
            "Epoch 1/10\n",
            "844/844 [==============================] - 34s 40ms/step - loss: 1.0694 - accuracy: 0.6166 - val_loss: 0.7036 - val_accuracy: 0.7617\n",
            "Epoch 2/10\n",
            "844/844 [==============================] - 34s 40ms/step - loss: 0.6422 - accuracy: 0.7668 - val_loss: 0.6325 - val_accuracy: 0.7635\n",
            "Epoch 3/10\n",
            "844/844 [==============================] - 34s 40ms/step - loss: 0.5511 - accuracy: 0.8028 - val_loss: 0.5189 - val_accuracy: 0.8230\n",
            "Epoch 4/10\n",
            "844/844 [==============================] - 33s 40ms/step - loss: 0.5010 - accuracy: 0.8240 - val_loss: 0.5058 - val_accuracy: 0.8255\n",
            "Epoch 5/10\n",
            "844/844 [==============================] - 33s 40ms/step - loss: 0.4679 - accuracy: 0.8356 - val_loss: 0.4786 - val_accuracy: 0.8337\n",
            "Epoch 6/10\n",
            "844/844 [==============================] - 33s 39ms/step - loss: 0.4425 - accuracy: 0.8446 - val_loss: 0.4522 - val_accuracy: 0.8405\n",
            "Epoch 7/10\n",
            "844/844 [==============================] - 33s 40ms/step - loss: 0.4225 - accuracy: 0.8522 - val_loss: 0.4264 - val_accuracy: 0.8533\n",
            "Epoch 8/10\n",
            "844/844 [==============================] - 34s 40ms/step - loss: 0.4059 - accuracy: 0.8576 - val_loss: 0.4526 - val_accuracy: 0.8457\n",
            "Epoch 9/10\n",
            "844/844 [==============================] - 33s 40ms/step - loss: 0.3916 - accuracy: 0.8626 - val_loss: 0.4009 - val_accuracy: 0.8592\n",
            "Epoch 10/10\n",
            "844/844 [==============================] - 33s 40ms/step - loss: 0.3778 - accuracy: 0.8687 - val_loss: 0.3959 - val_accuracy: 0.8590\n"
          ],
          "name": "stdout"
        },
        {
          "output_type": "display_data",
          "data": {
            "image/png": "[encoded data removed]",
            "text/plain": [
              "<Figure size 432x288 with 1 Axes>"
            ]
          },
          "metadata": {
            "tags": [],
            "needs_background": "light"
          }
        },
        {
          "output_type": "display_data",
          "data": {
            "image/png": "[encoded data removed]",
            "text/plain": [
              "<Figure size 432x288 with 1 Axes>"
            ]
          },
          "metadata": {
            "tags": [],
            "needs_background": "light"
          }
        }
      ]
    },
    {
      "cell_type": "code",
      "metadata": {
        "id": "Es5uOSiOxtuC",
        "colab": {
          "base_uri": "https://localhost:8080/"
        },
        "outputId": "fa8b7bf7-900f-4ee6-8144-b77ceb268a07"
      },
      "source": [
        "### Print out the evaluation results, including test loss and test accuracy.\n",
        "score3 = model.evaluate(x_test, y_test, verbose=0)\n",
        "print(\"Test loss:\", score3[0])\n",
        "print(\"Test accuracy:\", score3[1])"
      ],
      "execution_count": null,
      "outputs": [
        {
          "output_type": "stream",
          "text": [
            "Test loss: 0.40721461176872253\n",
            "Test accuracy: 0.8603000044822693\n"
          ],
          "name": "stdout"
        }
      ]
    }
  ]
}