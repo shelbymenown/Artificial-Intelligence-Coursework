{
  "nbformat": 4,
  "nbformat_minor": 0,
  "metadata": {
    "coursera": {
      "course_slug": "neural-networks-deep-learning",
      "graded_item_id": "XaIWT",
      "launcher_item_id": "zAgPl"
    },
    "kernelspec": {
      "display_name": "Python 3",
      "language": "python",
      "name": "python3"
    },
    "language_info": {
      "codemirror_mode": {
        "name": "ipython",
        "version": 3
      },
      "file_extension": ".py",
      "mimetype": "text/x-python",
      "name": "python",
      "nbconvert_exporter": "python",
      "pygments_lexer": "ipython3",
      "version": "3.8.3"
    },
    "colab": {
      "name": "Homework_02.ipynb",
      "provenance": [],
      "collapsed_sections": [],
      "toc_visible": true,
      "include_colab_link": true
    }
  },
  "cells": [
    {
      "cell_type": "markdown",
      "metadata": {
        "id": "view-in-github",
        "colab_type": "text"
      },
      "source": [
        "<a href=\"https://colab.research.google.com/github/shelbymenown/Artificial-Intelligence-Coursework/blob/main/Homework_02.ipynb\" target=\"_parent\"><img src=\"https://colab.research.google.com/assets/colab-badge.svg\" alt=\"Open In Colab\"/></a>"
      ]
    },
    {
      "cell_type": "markdown",
      "metadata": {
        "id": "ghnGqJKQWePC"
      },
      "source": [
        "# Logistic Regression Homework\n",
        "\n",
        "This is the 2nd assignment for CAP 4630 and we will implement logistic regression and apply it to two\n",
        "different datasets. \\\n",
        "You will use **\"Tasks\"** and **\"Hints\"** to finish the work. **(Total 100 Points)** \\\n",
        "You are **not** allowed to use Machine Learning libaries such as Scikit-learn and Keras.\n",
        "\n",
        "**Task Overview:**\n",
        "- Logistic Regression \n",
        "- Regularized logistic regression"
      ]
    },
    {
      "cell_type": "markdown",
      "metadata": {
        "id": "SqhFS56OWePE"
      },
      "source": [
        "## 1 - Logistic Regression ##\n",
        "### 1.1 Packages\n",
        "\n",
        "Import useful packages for scientific computing and data processing. \n",
        "\n",
        "**Tasks:**\n",
        "1. Import numpy and rename it to np.\n",
        "2. Import pandas and rename it to pd.\n",
        "3. Import the pyplot function in the libraray of matplotlib and rename it to plt.\n",
        "\n",
        "References:\n",
        "- [numpy](www.numpy.org) is the fundamental package for scientific computing with Python.\n",
        "- [matplotlib](http://matplotlib.org) is a famous library to plot graphs in Python.\n",
        "\n",
        "**Attention:**\n",
        "1. After this renaming, you will use the new name to call functions. For example, **numpy** will become **np** in the following sections."
      ]
    },
    {
      "cell_type": "code",
      "metadata": {
        "id": "OidDIcAhWePF"
      },
      "source": [
        "# Import and rename libraries here\n",
        "import numpy as np\n",
        "import pandas as pd\n",
        "import matplotlib.pyplot as plt"
      ],
      "execution_count": null,
      "outputs": []
    },
    {
      "cell_type": "markdown",
      "metadata": {
        "collapsed": true,
        "id": "WbKCbLnvWePR"
      },
      "source": [
        "### 1.2 - Data Preparation ##\n",
        "\n",
        "Prepare the data for regression task. **(5 Points)**\n",
        "\n",
        "**Tasks:**\n",
        "1. Load data for logistic regression.\n",
        "2. Generate the scatter plot of the data.\n",
        "\n",
        "**Hints:**\n",
        "1. The data file is \"data_logistic.csv\", which are exam scores for students.\n",
        "2. The data is organized by column: x1 (exam 1 score), x2 (exam 2 score), and label y (pass 1 or fail 0).\n",
        "3. Please use different colors for postive(label=1) and negative(label=0) data.\n",
        "4. An example of scatter plots is shown below.\n",
        "![mxplusc](data_plots.png)"
      ]
    },
    {
      "cell_type": "code",
      "metadata": {
        "id": "6yM5XxrqWePT",
        "colab": {
          "base_uri": "https://localhost:8080/",
          "height": 265
        },
        "outputId": "34117185-d5c0-44b0-eb26-b88198cb48c2"
      },
      "source": [
        "# Preprocess input data and generate plots\n",
        "data = pd.read_csv('data_logistic.csv')\n",
        "x1 = data.iloc[:, 0]\n",
        "x2 = data.iloc[:, 1]\n",
        "y = np.array(data.iloc[:, 2])\n",
        "\n",
        "# Old plot\n",
        "#colors = np.where(y==1,'blue','red')\n",
        "#plt.scatter(x1, x2, c=colors)\n",
        "  \n",
        "# Creating plot \n",
        "plt.plot(x1[y == 1], x2[y == 1], '+', markersize = 7.0, label = 'Positive')\n",
        "plt.plot(x1[y == 0], x2[y == 0], 'o', label = 'Negative')\n",
        "plt.legend(loc=\"upper right\")\n",
        "  \n",
        "# show plot \n",
        "plt.show()"
      ],
      "execution_count": null,
      "outputs": [
        {
          "output_type": "display_data",
          "data": {
            "image/png": "[encoded data removed]",
            "text/plain": [
              "<Figure size 432x288 with 1 Axes>"
            ]
          },
          "metadata": {
            "tags": [],
            "needs_background": "light"
          }
        }
      ]
    },
    {
      "cell_type": "markdown",
      "metadata": {
        "id": "WitfWmMKWePY"
      },
      "source": [
        "### 1.3 - Sigmoid function ##\n",
        "\n",
        "\n",
        "Implement sigmoid function so it can be called by the rest of your program. **(10 Points)**\n",
        "\n",
        "**Tasks:**\n",
        "1. Implement the sigmoid function (**def sigmoid(z):**). \n",
        "2. Test the sigmoid function by function plotting with test data (X, Y) where Y = sigmoid(X). \n",
        "\n",
        "**Hints:**  \n",
        "1. Given the class material, sigmoid function is defined as:\n",
        "$g(z) = \\frac{1}{1+e^{-z}}$.\n",
        "2. You may consider X = np.linspace(-5, 5, 1000) to plot the curve.\n",
        "3. Plot Y against X.\n",
        "4. An example of plot for validation is shown below:\n",
        "![mxplusc](sigmoid_illustration.jpg)"
      ]
    },
    {
      "cell_type": "code",
      "metadata": {
        "id": "3zh3ma-WWePa"
      },
      "source": [
        "# Implement sigmoid fuction here\n",
        "def sigmoid(z):\n",
        "  result = 1/(1 + np.exp(-z))\n",
        "  return result"
      ],
      "execution_count": null,
      "outputs": []
    },
    {
      "cell_type": "code",
      "metadata": {
        "id": "brcBsMQWWePg",
        "colab": {
          "base_uri": "https://localhost:8080/",
          "height": 279
        },
        "outputId": "5068a416-bc91-4bbc-9f22-0e2b8c3b61f9"
      },
      "source": [
        "# Plot data here\n",
        "# Plot data here\n",
        "X = np.linspace(-5, 5, 1000)\n",
        "Y = sigmoid(X)\n",
        "\n",
        "plt.plot(X, Y) \n",
        "plt.xlabel(\"X\") \n",
        "plt.ylabel(\"g(x)\") \n",
        "\n",
        "plt.show()"
      ],
      "execution_count": null,
      "outputs": [
        {
          "output_type": "display_data",
          "data": {
            "image/png": "[encoded data removed]",
            "text/plain": [
              "<Figure size 432x288 with 1 Axes>"
            ]
          },
          "metadata": {
            "tags": [],
            "needs_background": "light"
          }
        }
      ]
    },
    {
      "cell_type": "markdown",
      "metadata": {
        "id": "gH8o28znWePl"
      },
      "source": [
        "### 1.4 - Cost function and gradient ##\n",
        "\n",
        "Implement the cross entropy cost function and its gradient for logistic regression. **(20 Points)**\n",
        "\n",
        "**Tasks:**\n",
        "1. Implement the \"cal_cost\" to compute the cost.\n",
        "2. Implement the \"cal_grad\" to compute the gradients.\n",
        "3. Test \"cal_cost\" and \"cal_grad\" with initial values and print out the results.\n",
        "\n",
        "**Hint:**\n",
        "1. The cross entropy cost function (J(θ)) in logistic regression is shown below. It involves two terms, including ylog(h) and (1-y)log(1-h) where h is the function of x.\n",
        "![mxplusc](equation_J.jpg)\n",
        "2. The gradient of the cost J(θ) is a vector of the same length as θ where the $j$th element (for $j = 0, 1, . . . , n)$ is defined below. You may do a hand calculation to justify the first order derivative with the term above.\n",
        "![mxplusc](equation_theta.jpg)\n",
        "3. When you implement J(θ), please use eps = 1e-15 to prevent possible \"divide by 0 exception\" in second term. You may think about the reason.\n",
        "4. You may consider the below templates for two functions:\n",
        "\n",
        "    def cal_cost(theta, X, y):\n",
        " \n",
        "        htheta = ...\n",
        "        term1 = ...  /* matrix_multiplication(log(htheta), y)\n",
        "        term2 = ...  /* matrix_multiplication(log(1-htheta+eps), (1-y))\n",
        "        J = - 1 / m * (term1 + term2) \n",
        "        \n",
        "        return cost\n",
        "        \n",
        "    \n",
        "    def cal_grad(theta, X, y):\n",
        "        \n",
        "        htheta = ...\n",
        "        term1 = ... /* matrix_multiplication(transpose(X), (htheta - y))  //you may think about why transpose(x)\n",
        "        grad = 1 / m * term1 \n",
        "    \n",
        "        return grad\n",
        "5. It involves matrix multiplication and you may consider the function of np.matmul or np.dot.   \n",
        "        \n",
        "6. Initialize the intercept term with **ones** and the theta with **zeros**. Test the functions with these initial values. \\\n",
        "    **Expected outputs:**\\\n",
        "    Cost at initial theta : 0.6931471805599445\\\n",
        "    Gradient at inital theta : [-0.1        -10.91242026 -11.73652937]\n"
      ]
    },
    {
      "cell_type": "code",
      "metadata": {
        "id": "goNsrDeUWePm",
        "colab": {
          "base_uri": "https://localhost:8080/",
          "height": 72
        },
        "outputId": "ba86e9e2-bfb0-4ca2-afe9-df9781397f8b"
      },
      "source": [
        "# Implement the cost function here\n",
        "#X = data.reindex(columns=['label', 'x1', 'x2']).values\n",
        "X = np.array([np.ones(len(y)), x1, x2])\n",
        "theta = np.array([0,0,0])\n",
        "\n",
        "def cal_cost(theta, X, y):\n",
        "    htheta = sigmoid(np.dot(theta, X))\n",
        "    eps = 1e-15\n",
        "    m = X.shape[1]\n",
        "    term1 = np.dot(np.log(htheta), y)\n",
        "    term2 = np.dot(np.log(1-htheta+eps), (1-y))\n",
        "    cost = - 1 / m * (term1 + term2)\n",
        "    return cost\n",
        "\n",
        "def cal_grad(theta, X, y):\n",
        "    htheta = sigmoid(np.dot(theta, X))\n",
        "    term1 = np.dot(X, (htheta - y))\n",
        "    m = X.shape[1]\n",
        "    grad = 1 / m * term1 \n",
        "    return grad\n",
        "    \n",
        "cost = cal_cost(theta, X, y)\n",
        "grad = cal_grad(theta, X, y)\n",
        "    \n",
        "print ('Cost at initial theta: {0}'.format(cost))\n",
        "print ('Gradient at inital theta:\\n {0}'.format(grad))\n"
      ],
      "execution_count": null,
      "outputs": [
        {
          "output_type": "stream",
          "text": [
            "Cost at initial theta: 0.6931471805599445\n",
            "Gradient at inital theta:\n",
            " [ -0.1        -10.91242026 -11.73652937]\n"
          ],
          "name": "stdout"
        }
      ]
    },
    {
      "cell_type": "markdown",
      "metadata": {
        "id": "Xxz86z15WePu"
      },
      "source": [
        "## 1.5 Train parameters with Gradient Descent ##\n",
        "\n",
        "\n",
        "Train parameters using Gradient Descent. **(10 Points)**\n",
        "\n",
        "**Tasks:**\n",
        "1. Calculate best fit theta by Gradient Descent with learning rate of **0.001** and epoch of **800K**. The initial theta from above blocks is used as initial values.\n",
        "2. Print out the best theta (the last one is considered as the best here) and its corresponding cost.\n",
        "3. Plot the decision boundary.\n",
        "\n",
        "**Hints:**\n",
        "1. You may take gradient descent in homework 1 as an template.\n",
        "2. The validation of first 5 epochs (updated theta and cost): \\\n",
        "------Epoch 0------\\\n",
        "Theta: [0.0001     0.01091242 0.01173653]\\\n",
        "Cost: 0.6996118077359638\\\n",
        "------Epoch 1------\\\n",
        "Theta: [-0.0001129   0.00053949  0.00229352]\\\n",
        "Cost: 0.6649331468590681\\\n",
        "------Epoch 2------\\\n",
        "Theta: [-5.93604956e-05  8.33145873e-03  1.07754324e-02]\\\n",
        "Cost: 0.6679914364992459\\\n",
        "------Epoch 3------\\\n",
        "Theta: [-0.0002356   0.0004607   0.00370829]\\\n",
        "Cost: 0.6545873034874964\\\n",
        "------Epoch 4------\\\n",
        "Theta: [-0.00020363  0.00683227  0.01065138]\\\n",
        "Cost: 0.6563302142684528\n",
        "3. You may take the plots below as an exmample: \n",
        "![mxplusc](decision_boundary_01.png)\n",
        "4. It may take ~1 min to finish running."
      ]
    },
    {
      "cell_type": "code",
      "metadata": {
        "id": "ThrHFkZBWePv",
        "colab": {
          "base_uri": "https://localhost:8080/",
          "height": 348
        },
        "outputId": "2cc98568-bf46-4a0e-a198-3dea5076ad8a"
      },
      "source": [
        "# Gradient Descent Implementation Here\n",
        "# Build the model here\n",
        "\n",
        "learningRate = 0.001  # The learning Rate\n",
        "epochs = 800000 # The number of iterations to perform gradient descent\n",
        "theta = np.array([0,0,0])\n",
        "\n",
        "# Performing Gradient Descent \n",
        "for i in range(epochs):\n",
        "    grad = cal_grad(theta,X,y)\n",
        "    theta = theta - learningRate * grad\n",
        "    if (i < 5):\n",
        "      print('------Epoch {0}------'.format(i))\n",
        "      print('Theta: {0}'.format(theta))\n",
        "      print('Cost: {0}'.format(cal_cost(theta, X, y)))\n",
        "print(\"===================\")\n",
        "print('Best Fit Theta: {0}'.format(theta))\n",
        "print('Best Fit Cost: {0}'.format(cal_cost(theta, X, y)))"
      ],
      "execution_count": null,
      "outputs": [
        {
          "output_type": "stream",
          "text": [
            "------Epoch 0------\n",
            "Theta: [0.0001     0.01091242 0.01173653]\n",
            "Cost: 0.6996118077359638\n",
            "------Epoch 1------\n",
            "Theta: [-0.0001129   0.00053949  0.00229352]\n",
            "Cost: 0.6649331468590681\n",
            "------Epoch 2------\n",
            "Theta: [-5.93604956e-05  8.33145873e-03  1.07754324e-02]\n",
            "Cost: 0.667991436499246\n",
            "------Epoch 3------\n",
            "Theta: [-0.0002356   0.0004607   0.00370829]\n",
            "Cost: 0.6545873034874964\n",
            "------Epoch 4------\n",
            "Theta: [-0.00020363  0.00683227  0.01065138]\n",
            "Cost: 0.6563302142684528\n",
            "===================\n",
            "Best Fit Theta: [-13.38180064   0.10550175   0.11154862]\n",
            "Best Fit Cost: 0.2761699482595887\n"
          ],
          "name": "stdout"
        }
      ]
    },
    {
      "cell_type": "code",
      "metadata": {
        "id": "a8YgI_JXWePz",
        "colab": {
          "base_uri": "https://localhost:8080/",
          "height": 283
        },
        "outputId": "0855f2a2-a56c-4dbb-8a18-9db5c03d497a"
      },
      "source": [
        "# Draw Decision Boundary Here\n",
        "plt.plot(x1[y == 1], x2[y == 1], '+', markersize = 7.0, label = 'Positive')\n",
        "plt.plot(x1[y == 0], x2[y == 0], 'o', label = 'Negative')\n",
        "plt.legend(loc=\"upper right\")\n",
        "\n",
        "a = np.linspace(30, 100, 1000)\n",
        "b = -(theta[0] + theta[1]*a)/theta[2]\n",
        "\n",
        "plt.plot(a, b)"
      ],
      "execution_count": null,
      "outputs": [
        {
          "output_type": "execute_result",
          "data": {
            "text/plain": [
              "[<matplotlib.lines.Line2D at 0x7fe9e0e61a20>]"
            ]
          },
          "metadata": {
            "tags": []
          },
          "execution_count": 8
        },
        {
          "output_type": "display_data",
          "data": {
            "image/png": "[encoded data removed]",
            "text/plain": [
              "<Figure size 432x288 with 1 Axes>"
            ]
          },
          "metadata": {
            "tags": [],
            "needs_background": "light"
          }
        }
      ]
    },
    {
      "cell_type": "markdown",
      "metadata": {
        "id": "s2Cd8BAoWeP4"
      },
      "source": [
        "\n",
        "### 1.6 Evaluating Logistic Regression\n",
        "\n",
        "Evaluate the model with given data. **(5 Points)**\n",
        "\n",
        "**Tasks:**\n",
        "1. Calculate the training accuracy and print it out\n",
        "2. Evaluate the predicted probability of the learnt model with x1 = 56 and x2 = 32 and print it out.\n",
        "\n",
        "\n",
        "**Hints:**  \n",
        "1. Positive(prediction>0.5) and negative(prediction<=0.5). \n",
        "2. The prediction results are based on acceptance probability. Given the two exam scores, we expected the model yields either high probability of \"fail\" or low probability of \"pass\".\n",
        "3. Training accuracy should be high enough, like above 87%."
      ]
    },
    {
      "cell_type": "code",
      "metadata": {
        "id": "FKHrGCI9WeP4",
        "colab": {
          "base_uri": "https://localhost:8080/",
          "height": 72
        },
        "outputId": "5ce79db7-d372-4ac3-b399-8de623e7cc96"
      },
      "source": [
        "# Evaluate the model\n",
        "htheta = sigmoid(np.dot(theta, X))\n",
        "truePositive = 0\n",
        "trueNegative = 0\n",
        "\n",
        "for i in range(len(y)):\n",
        "  if htheta[i] <= 0.5 and y[i] == 0:\n",
        "    trueNegative += 1 \n",
        "  if htheta[i] > 0.5 and y[i] == 1:\n",
        "    trueNegative += 1 \n",
        "\n",
        "accuracy = (truePositive + trueNegative) / len(y)\n",
        "print('Accuracy: {0}%'.format(accuracy*100))\n",
        "print(\"===================\")\n",
        "    \n",
        "# Evaluate predicted probability with given scores\n",
        "exam1 = 56\n",
        "exam2 = 32\n",
        "y_pred = sigmoid(theta[0]*1 + theta[1]*exam1 + theta[2]*exam2)\n",
        "\n",
        "print('Chance of passing: {0}%'.format(y_pred*100))"
      ],
      "execution_count": null,
      "outputs": [
        {
          "output_type": "stream",
          "text": [
            "Accuracy: 87.5%\n",
            "===================\n",
            "Chance of passing: 1.97598304099641%\n"
          ],
          "name": "stdout"
        }
      ]
    },
    {
      "cell_type": "markdown",
      "metadata": {
        "id": "4jsJW5KFWeP-"
      },
      "source": [
        "\n",
        "## 2 - Regularized Logistic Regression ##\n",
        "### 2.1 - Data Preparation\n",
        "\n",
        "Prepare the data for regression task. **(5 Points)**\n",
        "\n",
        "**Tasks:**\n",
        "1. Load data for logistic regression.\n",
        "2. Generate the scatter plot of the data.\n",
        "\n",
        "**Hints:**\n",
        "1. The data file is \"data_reg_logistic.csv\".\n",
        "2. The data is organized by columns with : x1, x2 and label y.\n",
        "3. Try different scatter styles for postive(label=1) and negative(label=0) data.\n",
        "4. An example of scatter plots is shown below. Obviously, it is difficult to obtain a accurate linear boundary.\n",
        "![mxplusc](data_plots_2.png)"
      ]
    },
    {
      "cell_type": "code",
      "metadata": {
        "id": "8w-iU-CsWeP_",
        "colab": {
          "base_uri": "https://localhost:8080/",
          "height": 265
        },
        "outputId": "ad267585-9ef4-4dcf-9927-d26d04cca6bc"
      },
      "source": [
        "# Visualize the data here\n",
        "# Preprocess input data and generate plots\n",
        "data = pd.read_csv('data_reg_logistic.csv')\n",
        "x1 = data.iloc[:, 0]\n",
        "x2 = data.iloc[:, 1]\n",
        "y = data.iloc[:, 2]\n",
        "\n",
        "# Old plot\n",
        "#colors = np.where(y==1,'blue','red')\n",
        "#scatter = plt.scatter(x1, x2, c=colors)\n",
        "\n",
        "# Creating plot \n",
        "plt.plot(x1[y == 1], x2[y == 1], '+', markersize = 7.0, label = 'Positive')\n",
        "plt.plot(x1[y == 0], x2[y == 0], 'o', label = 'Negative')\n",
        "plt.legend(loc=\"upper right\")\n",
        "  \n",
        "# Show plot \n",
        "plt.show()\n"
      ],
      "execution_count": null,
      "outputs": [
        {
          "output_type": "display_data",
          "data": {
            "image/png": "[encoded data removed]",
            "text/plain": [
              "<Figure size 432x288 with 1 Axes>"
            ]
          },
          "metadata": {
            "tags": [],
            "needs_background": "light"
          }
        }
      ]
    },
    {
      "cell_type": "markdown",
      "metadata": {
        "id": "TH10W91iWeQE"
      },
      "source": [
        "### 2.2 - Feature Mapping\n",
        "\n",
        "To obtain nonlinear boundary, we map the features into higher dimension.  **(5 Points)**\n",
        "\n",
        "**Tasks:**\n",
        "1. Map the 2-dimension features into all polynomial terms of x1 and x2 up to the 6th power.\n",
        "\n",
        "**Hints:**\n",
        "1. Mapping rule is similar to projection function which encodes input variables to new values. The example below shows input x will be encoded to a vector.\n",
        "![mxplusc](map_feature.png)\n",
        "2. Try the template below to implement your function: \n",
        "\n",
        "    def mapFeatures(data, degrees=6):\n",
        "        for i in all degrees\n",
        "            for j from 0 to i+1\n",
        "                X = X.append(X1^(i-j) * X2^j) /* Check the polynomial kernel function format. Consider np.hstack function.\n",
        "        return X\n",
        "\n",
        "3. Validation for mapFeature(np.array([[0,1]])) is \\\n",
        "[[1. 0. 1. 0. 0. 1. 0. 0. 0. 1. 0. 0. 0. 0. 1. 0. 0. 0. 0. 0. 1. 0. 0. 0. 0. 0. 0. 1.]]"
      ]
    },
    {
      "cell_type": "code",
      "metadata": {
        "id": "n86q1rAzWeQE",
        "colab": {
          "base_uri": "https://localhost:8080/",
          "height": 274
        },
        "outputId": "bdfb5cfd-3762-492d-fd1a-2e25e6d7f1c4"
      },
      "source": [
        "# Mapping fuction here: def mapFeatures(data, degree):\n",
        "def mapFeature(data, degrees=6):\n",
        "    X1 = data[0]\n",
        "    X2 = data[1]\n",
        "    m = len(np.atleast_1d(X1))\n",
        "    X = np.ones((m, 1))\n",
        "    for i in range(1, degrees+1):\n",
        "      for j in range(0,i+1):\n",
        "          X = np.hstack((X, (X1**(i-j) * X2**j).reshape(m,1)))\n",
        "    return X\n",
        "\n",
        "#test = np.array([0,1])\n",
        "#print(mapFeature(test))\n",
        "\n",
        "x = np.array([x1, x2])\n",
        "X = mapFeature(x)\n",
        "print(X.shape)\n",
        "print(X)"
      ],
      "execution_count": null,
      "outputs": [
        {
          "output_type": "stream",
          "text": [
            "(100, 28)\n",
            "[[ 1.00000000e+00  5.12670000e-02  6.99560000e-01 ...  6.29470940e-04\n",
            "   8.58939846e-03  1.17205992e-01]\n",
            " [ 1.00000000e+00 -9.27420000e-02  6.84940000e-01 ...  1.89305413e-03\n",
            "  -1.39810280e-02  1.03255971e-01]\n",
            " [ 1.00000000e+00 -2.13710000e-01  6.92250000e-01 ...  1.04882142e-02\n",
            "  -3.39734512e-02  1.10046893e-01]\n",
            " ...\n",
            " [ 1.00000000e+00 -4.84450000e-01  9.99270000e-01 ...  2.34007252e-01\n",
            "  -4.82684337e-01  9.95627986e-01]\n",
            " [ 1.00000000e+00 -6.33640000e-03  9.99270000e-01 ...  4.00328554e-05\n",
            "  -6.31330588e-03  9.95627986e-01]\n",
            " [ 1.00000000e+00  6.32650000e-01 -3.06120000e-02 ...  3.51474517e-07\n",
            "  -1.70067777e-08  8.22905998e-10]]\n"
          ],
          "name": "stdout"
        }
      ]
    },
    {
      "cell_type": "markdown",
      "metadata": {
        "id": "2-aU2W_7WeQI"
      },
      "source": [
        "### 2.3 - Cost function and gradient\n",
        "\n",
        "Implement the cost function and gradient for regularized logistic regression. **(20 Points)**\n",
        "\n",
        "**Tasks:**\n",
        "1. Implement the \"cal_reg_cost\" to compute the cost.\n",
        "2. Implement the \"cal_reg_grad\" to compute the gradients.\n",
        "3. Test the the two functions with initial values.\n",
        "\n",
        "**Hint:**\n",
        "1. The regularized cost function in logistic regression is similar to the previous one, but with a regularization term. \n",
        "![mxplusc](equation_J_reg.png)\n",
        "2. The gradient of the cost is a vector of the same length as θ where the $j$th element (for $j = 0, 1, . . . , n)$ is defined as follows. Here, the first constant term will not be regularized. The reason could be found in *The Elements of Statistical Learning by Hastie et al. (P.63-64)* if you are curious.\n",
        "![mxplusc](equation_theta_reg.jpg)\n",
        "![mxplusc](equation_theta_reg_2.jpg)\n",
        "3. Use eps = 1e-15 to prevent divide by 0 exception. Set regularization parameter **lam** to **1**\n",
        "4. You may consider the below templates for two functions:\n",
        "\n",
        "    def cal_reg_cost(theta, X, y, lam):\n",
        "        htheta = ...\n",
        "        term1 = ...\n",
        "        term2 = ...\n",
        "        term3 =  ...\n",
        "        J = - 1 / m * (term1 + term2 - term3) \n",
        "        \n",
        "        return cost\n",
        "    \n",
        "    def cal_reg_grad(theta, X, y, lam):\n",
        "    \n",
        "        htheta = ...\n",
        "        term1 = ...\n",
        "        term2 = ...\n",
        "        grad = 1 / m * (term1 + term2)\n",
        "    \n",
        "        return grad\n",
        "    \n",
        "\n",
        "5. Initialize the intercept term with **ones** and theta with **zeros**. Test the functions with initial values.\n",
        "\n",
        "  **Validation**: \\\n",
        "  Cost at initial theta : 0.6931471805599442 \\\n",
        "  Gradient at inital theta : \\\n",
        "  [0.05    &nbsp;   0.03146256 &nbsp; 0.03589577 &nbsp;0.06512186 &nbsp;0.01044212\\\n",
        "  0.05812127 &nbsp; 0.02379224 &nbsp; 0.01121763 &nbsp; 0.01050091 &nbsp; 0.04185155\\\n",
        "  0.04795375 &nbsp; 0.00272593 &nbsp; 0.01551233 &nbsp; 0.00339255 &nbsp; 0.05331224\\\n",
        "  0.02385013 &nbsp; 0.00614284 &nbsp; 0.00382781 &nbsp; 0.00746595 &nbsp; 0.00566102\\\n",
        "  0.043769   &nbsp; 0.03690049 &nbsp; 0.00163929 &nbsp; 0.00723665 &nbsp; 0.00091111\\\n",
        "  0.00827412 &nbsp; 0.0017557  &nbsp; 0.05035145]"
      ]
    },
    {
      "cell_type": "code",
      "metadata": {
        "id": "tPhaHCmqWeQJ",
        "colab": {
          "base_uri": "https://localhost:8080/",
          "height": 146
        },
        "outputId": "f7f728c2-15a4-4dca-ca69-9c4a716b7caf"
      },
      "source": [
        "# Implement the cost function here\n",
        "theta = np.zeros(28)\n",
        "lam = 1\n",
        "\n",
        "def cal_reg_cost(theta, X, y, lam):\n",
        "    eps = 1e-15\n",
        "    m = X.shape[0]\n",
        "    \n",
        "    # compute the hypothesis\n",
        "    htheta = sigmoid(np.dot(theta, np.transpose(X)))\n",
        "        \n",
        "    # compute J in three terms\n",
        "    term1 = np.dot(np.log(htheta), y)\n",
        "    term2 = np.dot(np.log(1-htheta+eps), (1-y))\n",
        "    term3 = (lam / 2) * np.dot(theta[1:], theta[1:])\n",
        "\n",
        "    # cost function\n",
        "    cost = - 1 / m * (term1 + term2 - term3)\n",
        "    \n",
        "    return cost\n",
        "\n",
        "############################################\n",
        "def cal_reg_grad(theta, X, y, lam):\n",
        "    m = X.shape[0]\n",
        "    \n",
        "    # compute the hypothesis\n",
        "    htheta = sigmoid(np.dot(theta, np.transpose(X)))\n",
        "    \n",
        "    # gradient\n",
        "    term1 = np.dot(np.transpose(X), (htheta - y))\n",
        "    term2 = (lam / m) * (theta)\n",
        "    term2[0] = 0\n",
        "    grad = ((1 / m) * term1) + term2\n",
        "            \n",
        "    return grad\n",
        "    \n",
        "cost2 = cal_reg_cost(theta, X, y, lam)\n",
        "print ('Cost at initial theta: {0}'.format(cost2))\n",
        "\n",
        "grad2 = cal_reg_grad(theta, X, y, lam)\n",
        "print ('Gradient at inital theta:\\n {0}'.format(grad2))"
      ],
      "execution_count": null,
      "outputs": [
        {
          "output_type": "stream",
          "text": [
            "Cost at initial theta: 0.6931471805599441\n",
            "Gradient at inital theta:\n",
            " [0.05       0.03146256 0.03589577 0.06512186 0.01044212 0.05812127\n",
            " 0.02379224 0.01121763 0.01050091 0.04185155 0.04795375 0.00272593\n",
            " 0.01551233 0.00339255 0.05331224 0.02385013 0.00614284 0.00382781\n",
            " 0.00746595 0.00566102 0.043769   0.03690049 0.00163929 0.00723665\n",
            " 0.00091111 0.00827412 0.0017557  0.05035145]\n"
          ],
          "name": "stdout"
        }
      ]
    },
    {
      "cell_type": "markdown",
      "metadata": {
        "id": "drLGuCJfWeQQ"
      },
      "source": [
        "## 2.4 Train parameters with Gradient Descent ##\n",
        "\n",
        "\n",
        "Train parameters with Gradient Descent. **(10 Points EXTRA CREDIT)**\n",
        "\n",
        "**Tasks:**\n",
        "1. Implement GD function to optimize parameters.\n",
        "2. Print out the best theta (the last one is considered as the best here) and its corresponding cost.\n",
        "3. Plot the decision boundary.\n",
        "\n",
        "**Hints:**\n",
        "1. Calculate best fit theta by Gradient Descent with learning rate of **0.001**, epoch of **800K**, and lambda **1**. The initial theta from above blocks is used as initial values.\n",
        "2. Validation results for first 3 epochs:\\\n",
        "------Epoch 0------\\\n",
        "Best fit theta: \\\n",
        "[-5.00000000e-05 -3.14625580e-05 -3.58957700e-05 -6.51218577e-05\n",
        " -1.04421167e-05 -5.81212666e-05 -2.37922390e-05 -1.12176321e-05\n",
        " -1.05009072e-05 -4.18515520e-05 -4.79537494e-05 -2.72592921e-06\n",
        " -1.55123328e-05 -3.39254609e-06 -5.33122440e-05 -2.38501348e-05\n",
        " -6.14284478e-06 -3.82780648e-06 -7.46594607e-06 -5.66102417e-06\n",
        " -4.37690001e-05 -3.69004876e-05 -1.63928681e-06 -7.23665148e-06\n",
        " -9.11107182e-07 -8.27412363e-06 -1.75570322e-06 -5.03514495e-05]\\\n",
        "Cost function at best fit theta: 0.6931200736183647\\\n",
        "------Epoch 1------\\\n",
        "Best fit theta:\\\n",
        "[-9.99660872e-05 -6.29180045e-05 -7.17762192e-05 -1.30232876e-04\n",
        " -2.08833542e-05 -1.16226611e-04 -4.75791514e-05 -2.24326894e-05\n",
        " -2.10002834e-05 -8.36911234e-05 -9.59008610e-05 -5.45120938e-06\n",
        " -3.10221132e-05 -6.78469307e-06 -1.06612424e-04 -4.76958444e-05\n",
        " -1.22845790e-05 -7.65483587e-06 -1.49304702e-05 -1.13213871e-05\n",
        " -8.75273807e-05 -7.37959678e-05 -3.27810252e-06 -1.44722935e-05\n",
        " -1.82196550e-06 -1.65468641e-05 -3.51116570e-06 -1.00692168e-04]\\\n",
        "Cost function at best fit theta: 0.6930929809256421\\\n",
        "------Epoch 2------\\\n",
        "Best fit theta: \\\n",
        "[-1.49898275e-04 -9.43663412e-05 -1.07641353e-04 -1.95333057e-04\n",
        " -3.13237127e-05 -1.74316038e-04 -7.13607385e-05 -3.36451729e-05\n",
        " -3.14981290e-05 -1.25518718e-04 -1.43841337e-04 -8.17584068e-06\n",
        " -4.65293421e-05 -1.01764410e-05 -1.59900545e-04 -7.15371301e-05\n",
        " -1.84252031e-05 -1.14810884e-05 -2.23935728e-05 -1.69810890e-05\n",
        " -1.31275145e-04 -1.10686442e-04 -4.91644726e-06 -2.17069264e-05\n",
        " -2.73257501e-06 -2.48182220e-05 -5.26638746e-06 -1.51022159e-04]\\\n",
        "Cost function at best fit theta: 0.6930659024719215\n",
        "\n",
        "3. Decision boundary result may look like the one below. You may consider plt.contour. https://matplotlib.org/3.3.1/api/_as_gen/matplotlib.pyplot.contour.html\n",
        "![mxplusc](decision_boundary.png)\n",
        "4. It may take ~1 min to finish running."
      ]
    },
    {
      "cell_type": "code",
      "metadata": {
        "id": "53MuyTveWeQQ",
        "colab": {
          "base_uri": "https://localhost:8080/",
          "height": 641
        },
        "outputId": "a50fbc3d-f7f6-4da5-d4fa-a09dcb9c34ab"
      },
      "source": [
        "# Learning and plot here\n",
        "learningRate = 0.001  # The learning Rate\n",
        "epochs = 800000 # The number of iterations to perform gradient descent\n",
        "theta = np.zeros(28)\n",
        "\n",
        "# Performing Gradient Descent \n",
        "for i in range(epochs):\n",
        "    grad = cal_reg_grad(theta, X, y, lam)\n",
        "    theta = theta - learningRate * grad\n",
        "    if (i < 3):\n",
        "      print('------Epoch {0}------'.format(i))\n",
        "      print('Theta: {0}'.format(theta))\n",
        "      print('Cost: {0}'.format(cal_cost(theta, np.transpose(X), y)))\n",
        "print(\"===================\")\n",
        "print('Best Fit Theta: {0}'.format(theta))\n",
        "print('Best Fit Cost: {0}'.format(cal_reg_cost(theta, X, y, lam)))\n",
        "    \n",
        "# print ('Best fit theta: {0}'.format(theta))\n",
        "# print ('Cost function at best fit theta: {0}'.format(cal_reg_cost(theta, X, y, lam)))\n"
      ],
      "execution_count": null,
      "outputs": [
        {
          "output_type": "stream",
          "text": [
            "------Epoch 0------\n",
            "Theta: [-5.00000000e-05 -3.14625580e-05 -3.58957700e-05 -6.51218577e-05\n",
            " -1.04421167e-05 -5.81212666e-05 -2.37922390e-05 -1.12176321e-05\n",
            " -1.05009072e-05 -4.18515520e-05 -4.79537494e-05 -2.72592921e-06\n",
            " -1.55123328e-05 -3.39254609e-06 -5.33122440e-05 -2.38501348e-05\n",
            " -6.14284478e-06 -3.82780648e-06 -7.46594607e-06 -5.66102417e-06\n",
            " -4.37690001e-05 -3.69004876e-05 -1.63928681e-06 -7.23665148e-06\n",
            " -9.11107182e-07 -8.27412363e-06 -1.75570322e-06 -5.03514495e-05]\n",
            "Cost: 0.6931200734953121\n",
            "------Epoch 1------\n",
            "Theta: [-9.99660872e-05 -6.29180045e-05 -7.17762192e-05 -1.30232876e-04\n",
            " -2.08833542e-05 -1.16226611e-04 -4.75791514e-05 -2.24326894e-05\n",
            " -2.10002834e-05 -8.36911234e-05 -9.59008610e-05 -5.45120938e-06\n",
            " -3.10221132e-05 -6.78469307e-06 -1.06612424e-04 -4.76958444e-05\n",
            " -1.22845790e-05 -7.65483587e-06 -1.49304702e-05 -1.13213871e-05\n",
            " -8.75273807e-05 -7.37959678e-05 -3.27810252e-06 -1.44722935e-05\n",
            " -1.82196550e-06 -1.65468641e-05 -3.51116570e-06 -1.00692168e-04]\n",
            "Cost: 0.6930929804335406\n",
            "------Epoch 2------\n",
            "Theta: [-1.49898275e-04 -9.43663412e-05 -1.07641353e-04 -1.95333057e-04\n",
            " -3.13237127e-05 -1.74316038e-04 -7.13607385e-05 -3.36451729e-05\n",
            " -3.14981290e-05 -1.25518718e-04 -1.43841337e-04 -8.17584068e-06\n",
            " -4.65293421e-05 -1.01764410e-05 -1.59900545e-04 -7.15371301e-05\n",
            " -1.84252031e-05 -1.14810884e-05 -2.23935728e-05 -1.69810890e-05\n",
            " -1.31275145e-04 -1.10686442e-04 -4.91644726e-06 -2.17069264e-05\n",
            " -2.73257501e-06 -2.48182220e-05 -5.26638746e-06 -1.51022159e-04]\n",
            "Cost: 0.6930659013649374\n",
            "===================\n",
            "Best Fit Theta: [ 1.18192112  0.3302387   0.72653186 -2.06350871 -0.54018926 -1.31116613\n",
            "  0.17119535 -0.23855254 -0.36183315 -0.2520387  -1.40841861 -0.00252053\n",
            " -0.53202653 -0.1555618  -1.13632668 -0.14384031 -0.16652459 -0.01486587\n",
            " -0.21338272 -0.27605399 -0.47482297 -0.96046721  0.02894384 -0.24421303\n",
            "  0.009889   -0.25904866 -0.08447431 -0.93253241]\n",
            "Best Fit Cost: 0.5225389423918066\n"
          ],
          "name": "stdout"
        }
      ]
    },
    {
      "cell_type": "code",
      "metadata": {
        "id": "eFWnNu8NWeQU",
        "colab": {
          "base_uri": "https://localhost:8080/",
          "height": 287
        },
        "outputId": "8618ae9a-f19a-4173-a429-a53ffb1861ad"
      },
      "source": [
        "# Plot Boundary Contour Here\n",
        "plt.plot(x1[y == 1], x2[y == 1], '+', markersize = 7.0, label = 'Positive')\n",
        "plt.plot(x1[y == 0], x2[y == 0], 'o', label = 'Negative')\n",
        "plt.legend(loc=\"upper right\")\n",
        "\n",
        "a = np.linspace(-1.0, 1.5, 100)\n",
        "b = np.linspace(-1.0, 1.5, 100)\n",
        "A, B = np.meshgrid(a, b)\n",
        "\n",
        "C = [sigmoid(np.dot(theta, np.transpose(mapFeature([A[i], B[i]])))) for i in range(len(B))]\n",
        "\n",
        "plt.contour(A, B, C, levels = [0.5])"
      ],
      "execution_count": null,
      "outputs": [
        {
          "output_type": "execute_result",
          "data": {
            "text/plain": [
              "<matplotlib.contour.QuadContourSet at 0x7fe9df5d8dd8>"
            ]
          },
          "metadata": {
            "tags": []
          },
          "execution_count": 15
        },
        {
          "output_type": "display_data",
          "data": {
            "image/png": "[encoded data removed]",
            "text/plain": [
              "<Figure size 432x288 with 1 Axes>"
            ]
          },
          "metadata": {
            "tags": [],
            "needs_background": "light"
          }
        }
      ]
    },
    {
      "cell_type": "markdown",
      "metadata": {
        "id": "-XlbaC8KWeQX"
      },
      "source": [
        "## 2.5 Varying the Regularization parameter ##\n",
        "\n",
        "\n",
        "Modifying the value of regularization term lambda to see how the decision boundry changes. **(10 Points EXTRA CREDIT)**\n",
        "\n",
        "**Tasks:**\n",
        "1. Set lambda to be different values (0.01, 1, 10, 20) and plot the results.\n",
        "2. Print out the best lambda and the corresponding training accuracy.\n",
        "\n",
        "**Hints:**\n",
        "1. With the developed functions above, specify varying lambda values\n",
        "2. Initial thetas are the same.\n",
        "3. When lams = [0.01, 1, 10 , 20], you may obtain the similar plots below.\n",
        "![mxplusc](decision_boundary_set.png)\n",
        "4. It may take 3~4 mins to finish running."
      ]
    },
    {
      "cell_type": "code",
      "metadata": {
        "id": "eVfqcWQPWeQY",
        "colab": {
          "base_uri": "https://localhost:8080/",
          "height": 1000
        },
        "outputId": "ea890d82-a037-4eac-bf1d-4650d76d917d"
      },
      "source": [
        "#Varying the Regularization parameter\n",
        "learningRate = 0.001  # The learning Rate\n",
        "epochs = 800000 # The number of iterations to perform gradient descent\n",
        "\n",
        "lams = [0.01, 1, 10, 20]\n",
        "best_acc = 0\n",
        "best_lam = -1\n",
        "for ct, lam in enumerate(lams):\n",
        "  theta = np.zeros(28)\n",
        "\n",
        "  # Performing Gradient Descent \n",
        "  for i in range(epochs):\n",
        "    grad = cal_reg_grad(theta, X, y, lam)\n",
        "    theta = theta - learningRate * grad\n",
        "\n",
        "  # Finding accuracy\n",
        "  htheta = sigmoid(np.dot(theta, np.transpose(X)))\n",
        "  truePositive = 0\n",
        "  trueNegative = 0\n",
        "  for i in range(len(y)):\n",
        "    if htheta[i] <= 0.5 and y[i] == 0:\n",
        "      trueNegative += 1 \n",
        "    if htheta[i] > 0.5 and y[i] == 1:\n",
        "      trueNegative += 1 \n",
        "  accuracy = (truePositive + trueNegative) / len(y)\n",
        "  if accuracy > best_acc:\n",
        "    best_acc = accuracy\n",
        "    best_lam = lams[ct]\n",
        "\n",
        "  # Plotting points\n",
        "  plt.figure()\n",
        "  plt.plot(x1[y == 1], x2[y == 1], '+', markersize = 7.0, label = 'Positive')\n",
        "  plt.plot(x1[y == 0], x2[y == 0], 'o', label = 'Negative')\n",
        "  plt.legend(loc=\"upper right\")\n",
        "\n",
        "  # Plotting contour\n",
        "  a = np.linspace(-1.0, 1.5, 100)\n",
        "  b = np.linspace(-1.0, 1.5, 100)\n",
        "  A, B = np.meshgrid(a, b)\n",
        "  C = [sigmoid(np.dot(theta, np.transpose(mapFeature([A[i], B[i]])))) for i in range(len(B))]\n",
        "  plt.contour(A, B, C, levels = [0.5])\n",
        "  plt.show()\n",
        "\n",
        "print('best acc',best_acc)\n",
        "print('best lam',best_lam)\n"
      ],
      "execution_count": null,
      "outputs": [
        {
          "output_type": "display_data",
          "data": {
            "image/png": "[encoded data removed]",
            "text/plain": [
              "<Figure size 432x288 with 1 Axes>"
            ]
          },
          "metadata": {
            "tags": [],
            "needs_background": "light"
          }
        },
        {
          "output_type": "display_data",
          "data": {
            "image/png": "[encoded data removed]",
            "text/plain": [
              "<Figure size 432x288 with 1 Axes>"
            ]
          },
          "metadata": {
            "tags": [],
            "needs_background": "light"
          }
        },
        {
          "output_type": "display_data",
          "data": {
            "image/png": "[encoded data removed]",
            "text/plain": [
              "<Figure size 432x288 with 1 Axes>"
            ]
          },
          "metadata": {
            "tags": [],
            "needs_background": "light"
          }
        },
        {
          "output_type": "display_data",
          "data": {
            "image/png": "[encoded data removed]",
            "text/plain": [
              "<Figure size 432x288 with 1 Axes>"
            ]
          },
          "metadata": {
            "tags": [],
            "needs_background": "light"
          }
        },
        {
          "output_type": "stream",
          "text": [
            "best acc 0.81\n",
            "best lam 1\n"
          ],
          "name": "stdout"
        }
      ]
    },
    {
      "cell_type": "code",
      "metadata": {
        "id": "iUDiiihsWeQa"
      },
      "source": [
        ""
      ],
      "execution_count": null,
      "outputs": []
    }
  ]
}